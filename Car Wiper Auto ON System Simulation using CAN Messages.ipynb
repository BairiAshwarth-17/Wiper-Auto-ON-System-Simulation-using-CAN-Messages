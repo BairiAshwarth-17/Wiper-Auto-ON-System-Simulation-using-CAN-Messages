{
 "cells": [
  {
   "cell_type": "code",
   "execution_count": 1,
   "id": "4e65a7fc-2a39-4a91-bb06-af6d97eb07ab",
   "metadata": {},
   "outputs": [
    {
     "name": "stdout",
     "output_type": "stream",
     "text": [
      "🚘 Wiper Auto ON System Simulation\n",
      "\n",
      "[Sensor] Sending Rain Intensity (ID=0x102) → Value: 10\n",
      "[BCM ECU] Sending Wiper Status (ID=0x202) → Value: 0 (OFF)\n",
      "✅ Test Passed\n",
      "\n",
      "[Sensor] Sending Rain Intensity (ID=0x102) → Value: 40\n",
      "[BCM ECU] Sending Wiper Status (ID=0x202) → Value: 0 (OFF)\n",
      "✅ Test Passed\n",
      "\n",
      "[Sensor] Sending Rain Intensity (ID=0x102) → Value: 55\n",
      "[BCM ECU] Sending Wiper Status (ID=0x202) → Value: 1 (ON)\n",
      "✅ Test Passed\n",
      "\n",
      "[Sensor] Sending Rain Intensity (ID=0x102) → Value: 80\n",
      "[BCM ECU] Sending Wiper Status (ID=0x202) → Value: 1 (ON)\n",
      "✅ Test Passed\n"
     ]
    }
   ],
   "source": [
    "\n",
    "# Define CAN Messages (dictionary for simulation)\n",
    "CAN_MESSAGES = {\n",
    "    \"RainSensor\": {\"ID\": 0x102, \"Data\": 0},    # Sensor sends rain intensity (0-100 scale)\n",
    "    \"WiperStatus\": {\"ID\": 0x202, \"Data\": 0}    # ECU sends wiper status (0=OFF, 1=ON)\n",
    "}\n",
    "\n",
    "# BCM ECU Logic\n",
    "def bcm_ecu_process(rain_intensity):\n",
    "    \"\"\"\n",
    "    BCM ECU processes rain sensor value.\n",
    "    If rain_intensity > 50 → Turn ON wipers.\n",
    "    Else → Keep OFF.\n",
    "    \"\"\"\n",
    "    if rain_intensity > 50:\n",
    "        CAN_MESSAGES[\"WiperStatus\"][\"Data\"] = 1  # Wipers ON\n",
    "    else:\n",
    "        CAN_MESSAGES[\"WiperStatus\"][\"Data\"] = 0  # Wipers OFF\n",
    "\n",
    "\n",
    "# Tester Simulation\n",
    "def tester_simulation(test_values):\n",
    "    \"\"\"\n",
    "    Simulates a tester injecting sensor values and checking ECU response.\n",
    "    \"\"\"\n",
    "    for rain in test_values:\n",
    "        # Sensor sends value\n",
    "        CAN_MESSAGES[\"RainSensor\"][\"Data\"] = rain\n",
    "        print(f\"\\n[Sensor] Sending Rain Intensity (ID={hex(CAN_MESSAGES['RainSensor']['ID'])}) → Value: {rain}\")\n",
    "\n",
    "        # BCM ECU processes sensor input\n",
    "        bcm_ecu_process(rain)\n",
    "\n",
    "        # Actuator receives status\n",
    "        wiper_status = CAN_MESSAGES[\"WiperStatus\"][\"Data\"]\n",
    "        print(f\"[BCM ECU] Sending Wiper Status (ID={hex(CAN_MESSAGES['WiperStatus']['ID'])}) → Value: {wiper_status} ({'ON' if wiper_status else 'OFF'})\")\n",
    "\n",
    "        # Tester validates output\n",
    "        expected = 1 if rain > 50 else 0\n",
    "        if wiper_status == expected:\n",
    "            print(\"✅ Test Passed\")\n",
    "        else:\n",
    "            print(\"❌ Test Failed\")\n",
    "\n",
    "\n",
    "# Run tester with different scenarios\n",
    "if __name__ == \"__main__\":\n",
    "    print(\"🚘 Wiper Auto ON System Simulation\")\n",
    "    test_values = [10, 40, 55, 80]  # Light rain, moderate, heavy\n",
    "    tester_simulation(test_values)\n"
   ]
  },
  {
   "cell_type": "code",
   "execution_count": null,
   "id": "876cc948-a1d5-4423-8201-6453644721e0",
   "metadata": {},
   "outputs": [],
   "source": []
  }
 ],
 "metadata": {
  "kernelspec": {
   "display_name": "Python 3 (ipykernel)",
   "language": "python",
   "name": "python3"
  },
  "language_info": {
   "codemirror_mode": {
    "name": "ipython",
    "version": 3
   },
   "file_extension": ".py",
   "mimetype": "text/x-python",
   "name": "python",
   "nbconvert_exporter": "python",
   "pygments_lexer": "ipython3",
   "version": "3.13.2"
  }
 },
 "nbformat": 4,
 "nbformat_minor": 5
}
